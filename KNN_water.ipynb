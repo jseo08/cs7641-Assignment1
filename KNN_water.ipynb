{
 "cells": [
  {
   "cell_type": "code",
   "execution_count": 57,
   "id": "b33e08db",
   "metadata": {},
   "outputs": [],
   "source": [
    "##Import Modules\n",
    "import pandas as pd\n",
    "import numpy as np\n",
    "import matplotlib.pyplot as plt\n",
    "import time\n",
    "from sklearn.neighbors import KNeighborsClassifier\n",
    "from sklearn.utils import resample, shuffle\n",
    "from sklearn.model_selection import train_test_split, cross_val_score\n",
    "from sklearn.metrics import confusion_matrix, plot_confusion_matrix, precision_score, recall_score, classification_report, f1_score\n",
    "from sklearn.model_selection import GridSearchCV, learning_curve\n",
    "from sklearn.model_selection import validation_curve\n",
    "from sklearn.preprocessing import StandardScaler\n",
    "\n",
    "def balance(data): #sample it down to 1200 to balance out\n",
    "    zero = data[data['Potability']==0] #has 1200\n",
    "    one = data[data['Potability']==1] #has 811\n",
    "    resampledData = resample(one, n_samples=1200)\n",
    "    updatedData = shuffle(pd.concat([zero, resampledData]))\n",
    "    return updatedData\n",
    "\n",
    "def variableClean(data):\n",
    "    indepVariable = data.drop('Potability', axis=1).copy()\n",
    "    depVariable = data['Potability'].copy()\n",
    "    scal = StandardScaler()\n",
    "    features = indepVariable.columns\n",
    "    indepVariable[features] = scal.fit_transform(indepVariable[features])\n",
    "    return indepVariable, depVariable\n",
    "\n",
    "def getMax(arr):\n",
    "    maxVal = -1\n",
    "    index = -1\n",
    "    for i in range(len(arr)):\n",
    "        if(maxVal < arr[i]):\n",
    "            maxVal = arr[i]\n",
    "            index = i\n",
    "    return {'index': index,\n",
    "           'maximum_value': maxVal}\n",
    "\n",
    "def getScore(trainSize, testMean):\n",
    "    max_test = getMax(testMean)\n",
    "    index = max_test['index']\n",
    "    maxValue = max_test['maximum_value']\n",
    "    optimalTrainSize = trainSize[index]\n",
    "    conclusion = f'With the train size of {optimalTrainSize} yields the score of {maxValue}.'\n",
    "    return conclusion\n",
    "\n",
    "def prediction(df, xTrain, yTrain, xTest, yTest):\n",
    "    output = {}\n",
    "    start = time.time()\n",
    "    df.fit(xTrain, yTrain)\n",
    "    test_pred = df.predict(xTest)\n",
    "    cRep = classification_report(yTest, test_pred, digits=4)\n",
    "    f1Score = f1_score(yTest, test_pred)\n",
    "    end = time.time()\n",
    "    wallClockPred = end - start\n",
    "    outputUpdate = (('classification_report', cRep), ('f1_score', f1Score), ('wall_clock', wallClockPred))\n",
    "    output.update(outputUpdate)\n",
    "    return output\n",
    "\n",
    "def printPredictions(pred):\n",
    "    print('Time spent for prediction: ', pred['wall_clock'])\n",
    "    print(pred['classification_report'])\n",
    "    print('f1-Score: ', pred['f1_score'])\n"
   ]
  },
  {
   "cell_type": "code",
   "execution_count": 58,
   "id": "f7a27742",
   "metadata": {},
   "outputs": [
    {
     "name": "stdout",
     "output_type": "stream",
     "text": [
      "[learning_curve] Training set sizes: [  21   43   64   86  108  129  151  172  194  215  237  259  280  302\n",
      "  324  345  367  388  410  432  453  475  496  518  540  561  583  604\n",
      "  626  648  669  691  712  734  756  777  799  820  842  864  885  907\n",
      "  928  950  972  993 1015 1036 1058 1080 1101 1123 1144 1166 1188 1209\n",
      " 1231 1252 1274 1296 1317 1339 1360 1382 1404 1425 1447 1468 1490 1512\n",
      " 1533 1555 1576 1598 1620 1641 1663 1684 1706 1728 1749 1771 1792 1814\n",
      " 1836 1857 1879 1900 1922 1944 1965 1987 2008 2030 2052 2073 2095 2116\n",
      " 2138 2160]\n"
     ]
    },
    {
     "name": "stderr",
     "output_type": "stream",
     "text": [
      "[Parallel(n_jobs=-1)]: Using backend LokyBackend with 8 concurrent workers.\n",
      "[Parallel(n_jobs=-1)]: Done  92 out of 1000 | elapsed:    1.7s remaining:   16.3s\n",
      "[Parallel(n_jobs=-1)]: Done 193 out of 1000 | elapsed:    3.1s remaining:   12.9s\n",
      "[Parallel(n_jobs=-1)]: Done 294 out of 1000 | elapsed:    4.5s remaining:   10.9s\n",
      "[Parallel(n_jobs=-1)]: Done 395 out of 1000 | elapsed:    5.9s remaining:    9.1s\n",
      "[Parallel(n_jobs=-1)]: Done 496 out of 1000 | elapsed:    7.4s remaining:    7.5s\n",
      "[Parallel(n_jobs=-1)]: Done 597 out of 1000 | elapsed:    8.8s remaining:    5.9s\n",
      "[Parallel(n_jobs=-1)]: Done 698 out of 1000 | elapsed:   10.2s remaining:    4.4s\n",
      "[Parallel(n_jobs=-1)]: Done 799 out of 1000 | elapsed:   11.8s remaining:    3.0s\n",
      "[Parallel(n_jobs=-1)]: Done 900 out of 1000 | elapsed:   13.3s remaining:    1.5s\n",
      "[Parallel(n_jobs=-1)]: Done 1000 out of 1000 | elapsed:   14.9s finished\n"
     ]
    },
    {
     "data": {
      "text/plain": [
       "'With the train size of 2095 yields the score of 0.6879166666666667.'"
      ]
     },
     "execution_count": 58,
     "metadata": {},
     "output_type": "execute_result"
    },
    {
     "data": {
      "image/png": "[encoded data removed]",
      "text/plain": [
       "<Figure size 432x288 with 1 Axes>"
      ]
     },
     "metadata": {
      "needs_background": "light"
     },
     "output_type": "display_data"
    }
   ],
   "source": [
    "##Data source: https://www.kaggle.com/adityakadiwal/water-potability\n",
    "original_data = pd.read_csv('/Users/jacobseo/cs7641/assignment1/data/water_potability.csv')\n",
    "df = original_data.copy()\n",
    "df = df.dropna()\n",
    "\n",
    "df = balance(df)\n",
    "df.Potability.value_counts()\n",
    "\n",
    "X, y = variableClean(df)\n",
    "\n",
    "##Default learning Curve\n",
    "train_sizes, train_scores, test_scores = learning_curve(KNeighborsClassifier(), X, y, cv=10, scoring='accuracy', n_jobs=-1, train_sizes=np.linspace(0.01,1.0,100), verbose=10)\n",
    "train_mean = np.mean(train_scores, axis=1)\n",
    "train_std = np.std(train_scores, axis=1)\n",
    "test_mean = np.mean(test_scores, axis=1)\n",
    "test_std = np.std(test_scores, axis=1)\n",
    "\n",
    "plt.plot(train_sizes, train_mean, label='Training curve')\n",
    "plt.plot(train_sizes, test_mean, label='Test Curve')\n",
    "plt.xlabel(\"Dataset Size\")\n",
    "plt.ylabel(\"accuracy\")\n",
    "plt.title(\"accuracy score learning curve for default KNN\")\n",
    "plt.legend(bbox_to_anchor=(1.05, 1), loc='upper left', borderaxespad=0.)\n",
    "\n",
    "getScore(train_sizes, test_mean)"
   ]
  },
  {
   "cell_type": "code",
   "execution_count": 59,
   "id": "dfb86db6",
   "metadata": {},
   "outputs": [
    {
     "name": "stdout",
     "output_type": "stream",
     "text": [
      "Fitting 10 folds for each of 12 candidates, totalling 120 fits\n",
      "best parameter:  {'n_neighbors': 2, 'weights': 'distance'}\n",
      "best score:  0.7824074074074073\n"
     ]
    }
   ],
   "source": [
    "##Training and Test sets\n",
    "X_train, X_test, y_train, y_test = train_test_split(X, y, random_state=42, test_size=0.1)\n",
    "\n",
    "##GridSearch\n",
    "params = {\n",
    "    'n_neighbors': [2, 3, 5, 8, 10, 12],\n",
    "    'weights': ['distance', 'uniform']\n",
    "}\n",
    "\n",
    "gs = GridSearchCV(KNeighborsClassifier(), param_grid=params, cv=10, n_jobs=-1, verbose=10, return_train_score=True, scoring='accuracy')\n",
    "gs.fit(X_train, y_train)\n",
    "\n",
    "##Best Results\n",
    "best_parameter = gs.best_params_\n",
    "best_score = gs.best_score_\n",
    "\n",
    "print(\"best parameter: \", best_parameter)\n",
    "print(\"best score: \", best_score)"
   ]
  },
  {
   "cell_type": "code",
   "execution_count": 60,
   "id": "120b0c99",
   "metadata": {},
   "outputs": [
    {
     "data": {
      "text/html": [
       "<div>\n",
       "<style scoped>\n",
       "    .dataframe tbody tr th:only-of-type {\n",
       "        vertical-align: middle;\n",
       "    }\n",
       "\n",
       "    .dataframe tbody tr th {\n",
       "        vertical-align: top;\n",
       "    }\n",
       "\n",
       "    .dataframe thead th {\n",
       "        text-align: right;\n",
       "    }\n",
       "</style>\n",
       "<table border=\"1\" class=\"dataframe\">\n",
       "  <thead>\n",
       "    <tr style=\"text-align: right;\">\n",
       "      <th></th>\n",
       "      <th>mean_fit_time</th>\n",
       "      <th>std_fit_time</th>\n",
       "      <th>mean_score_time</th>\n",
       "      <th>std_score_time</th>\n",
       "      <th>param_n_neighbors</th>\n",
       "      <th>param_weights</th>\n",
       "      <th>params</th>\n",
       "      <th>split0_test_score</th>\n",
       "      <th>split1_test_score</th>\n",
       "      <th>split2_test_score</th>\n",
       "      <th>...</th>\n",
       "      <th>split2_train_score</th>\n",
       "      <th>split3_train_score</th>\n",
       "      <th>split4_train_score</th>\n",
       "      <th>split5_train_score</th>\n",
       "      <th>split6_train_score</th>\n",
       "      <th>split7_train_score</th>\n",
       "      <th>split8_train_score</th>\n",
       "      <th>split9_train_score</th>\n",
       "      <th>mean_train_score</th>\n",
       "      <th>std_train_score</th>\n",
       "    </tr>\n",
       "  </thead>\n",
       "  <tbody>\n",
       "    <tr>\n",
       "      <th>0</th>\n",
       "      <td>0.006816</td>\n",
       "      <td>0.001405</td>\n",
       "      <td>0.014983</td>\n",
       "      <td>0.002342</td>\n",
       "      <td>2</td>\n",
       "      <td>distance</td>\n",
       "      <td>{'n_neighbors': 2, 'weights': 'distance'}</td>\n",
       "      <td>0.782407</td>\n",
       "      <td>0.768519</td>\n",
       "      <td>0.800926</td>\n",
       "      <td>...</td>\n",
       "      <td>1.0</td>\n",
       "      <td>1.0</td>\n",
       "      <td>1.0</td>\n",
       "      <td>1.0</td>\n",
       "      <td>1.0</td>\n",
       "      <td>1.0</td>\n",
       "      <td>1.0</td>\n",
       "      <td>1.0</td>\n",
       "      <td>1.0</td>\n",
       "      <td>0.0</td>\n",
       "    </tr>\n",
       "    <tr>\n",
       "      <th>2</th>\n",
       "      <td>0.005108</td>\n",
       "      <td>0.001124</td>\n",
       "      <td>0.013568</td>\n",
       "      <td>0.001390</td>\n",
       "      <td>3</td>\n",
       "      <td>distance</td>\n",
       "      <td>{'n_neighbors': 3, 'weights': 'distance'}</td>\n",
       "      <td>0.791667</td>\n",
       "      <td>0.768519</td>\n",
       "      <td>0.773148</td>\n",
       "      <td>...</td>\n",
       "      <td>1.0</td>\n",
       "      <td>1.0</td>\n",
       "      <td>1.0</td>\n",
       "      <td>1.0</td>\n",
       "      <td>1.0</td>\n",
       "      <td>1.0</td>\n",
       "      <td>1.0</td>\n",
       "      <td>1.0</td>\n",
       "      <td>1.0</td>\n",
       "      <td>0.0</td>\n",
       "    </tr>\n",
       "    <tr>\n",
       "      <th>4</th>\n",
       "      <td>0.004811</td>\n",
       "      <td>0.000608</td>\n",
       "      <td>0.014697</td>\n",
       "      <td>0.001114</td>\n",
       "      <td>5</td>\n",
       "      <td>distance</td>\n",
       "      <td>{'n_neighbors': 5, 'weights': 'distance'}</td>\n",
       "      <td>0.768519</td>\n",
       "      <td>0.777778</td>\n",
       "      <td>0.768519</td>\n",
       "      <td>...</td>\n",
       "      <td>1.0</td>\n",
       "      <td>1.0</td>\n",
       "      <td>1.0</td>\n",
       "      <td>1.0</td>\n",
       "      <td>1.0</td>\n",
       "      <td>1.0</td>\n",
       "      <td>1.0</td>\n",
       "      <td>1.0</td>\n",
       "      <td>1.0</td>\n",
       "      <td>0.0</td>\n",
       "    </tr>\n",
       "    <tr>\n",
       "      <th>6</th>\n",
       "      <td>0.005014</td>\n",
       "      <td>0.000498</td>\n",
       "      <td>0.016825</td>\n",
       "      <td>0.002658</td>\n",
       "      <td>8</td>\n",
       "      <td>distance</td>\n",
       "      <td>{'n_neighbors': 8, 'weights': 'distance'}</td>\n",
       "      <td>0.777778</td>\n",
       "      <td>0.763889</td>\n",
       "      <td>0.777778</td>\n",
       "      <td>...</td>\n",
       "      <td>1.0</td>\n",
       "      <td>1.0</td>\n",
       "      <td>1.0</td>\n",
       "      <td>1.0</td>\n",
       "      <td>1.0</td>\n",
       "      <td>1.0</td>\n",
       "      <td>1.0</td>\n",
       "      <td>1.0</td>\n",
       "      <td>1.0</td>\n",
       "      <td>0.0</td>\n",
       "    </tr>\n",
       "    <tr>\n",
       "      <th>8</th>\n",
       "      <td>0.004692</td>\n",
       "      <td>0.000522</td>\n",
       "      <td>0.016658</td>\n",
       "      <td>0.001315</td>\n",
       "      <td>10</td>\n",
       "      <td>distance</td>\n",
       "      <td>{'n_neighbors': 10, 'weights': 'distance'}</td>\n",
       "      <td>0.791667</td>\n",
       "      <td>0.768519</td>\n",
       "      <td>0.768519</td>\n",
       "      <td>...</td>\n",
       "      <td>1.0</td>\n",
       "      <td>1.0</td>\n",
       "      <td>1.0</td>\n",
       "      <td>1.0</td>\n",
       "      <td>1.0</td>\n",
       "      <td>1.0</td>\n",
       "      <td>1.0</td>\n",
       "      <td>1.0</td>\n",
       "      <td>1.0</td>\n",
       "      <td>0.0</td>\n",
       "    </tr>\n",
       "    <tr>\n",
       "      <th>10</th>\n",
       "      <td>0.004652</td>\n",
       "      <td>0.000746</td>\n",
       "      <td>0.016309</td>\n",
       "      <td>0.000740</td>\n",
       "      <td>12</td>\n",
       "      <td>distance</td>\n",
       "      <td>{'n_neighbors': 12, 'weights': 'distance'}</td>\n",
       "      <td>0.814815</td>\n",
       "      <td>0.759259</td>\n",
       "      <td>0.763889</td>\n",
       "      <td>...</td>\n",
       "      <td>1.0</td>\n",
       "      <td>1.0</td>\n",
       "      <td>1.0</td>\n",
       "      <td>1.0</td>\n",
       "      <td>1.0</td>\n",
       "      <td>1.0</td>\n",
       "      <td>1.0</td>\n",
       "      <td>1.0</td>\n",
       "      <td>1.0</td>\n",
       "      <td>0.0</td>\n",
       "    </tr>\n",
       "  </tbody>\n",
       "</table>\n",
       "<p>6 rows × 32 columns</p>\n",
       "</div>"
      ],
      "text/plain": [
       "    mean_fit_time  std_fit_time  mean_score_time  std_score_time  \\\n",
       "0        0.006816      0.001405         0.014983        0.002342   \n",
       "2        0.005108      0.001124         0.013568        0.001390   \n",
       "4        0.004811      0.000608         0.014697        0.001114   \n",
       "6        0.005014      0.000498         0.016825        0.002658   \n",
       "8        0.004692      0.000522         0.016658        0.001315   \n",
       "10       0.004652      0.000746         0.016309        0.000740   \n",
       "\n",
       "   param_n_neighbors param_weights  \\\n",
       "0                  2      distance   \n",
       "2                  3      distance   \n",
       "4                  5      distance   \n",
       "6                  8      distance   \n",
       "8                 10      distance   \n",
       "10                12      distance   \n",
       "\n",
       "                                        params  split0_test_score  \\\n",
       "0    {'n_neighbors': 2, 'weights': 'distance'}           0.782407   \n",
       "2    {'n_neighbors': 3, 'weights': 'distance'}           0.791667   \n",
       "4    {'n_neighbors': 5, 'weights': 'distance'}           0.768519   \n",
       "6    {'n_neighbors': 8, 'weights': 'distance'}           0.777778   \n",
       "8   {'n_neighbors': 10, 'weights': 'distance'}           0.791667   \n",
       "10  {'n_neighbors': 12, 'weights': 'distance'}           0.814815   \n",
       "\n",
       "    split1_test_score  split2_test_score  ...  split2_train_score  \\\n",
       "0            0.768519           0.800926  ...                 1.0   \n",
       "2            0.768519           0.773148  ...                 1.0   \n",
       "4            0.777778           0.768519  ...                 1.0   \n",
       "6            0.763889           0.777778  ...                 1.0   \n",
       "8            0.768519           0.768519  ...                 1.0   \n",
       "10           0.759259           0.763889  ...                 1.0   \n",
       "\n",
       "    split3_train_score  split4_train_score  split5_train_score  \\\n",
       "0                  1.0                 1.0                 1.0   \n",
       "2                  1.0                 1.0                 1.0   \n",
       "4                  1.0                 1.0                 1.0   \n",
       "6                  1.0                 1.0                 1.0   \n",
       "8                  1.0                 1.0                 1.0   \n",
       "10                 1.0                 1.0                 1.0   \n",
       "\n",
       "    split6_train_score  split7_train_score  split8_train_score  \\\n",
       "0                  1.0                 1.0                 1.0   \n",
       "2                  1.0                 1.0                 1.0   \n",
       "4                  1.0                 1.0                 1.0   \n",
       "6                  1.0                 1.0                 1.0   \n",
       "8                  1.0                 1.0                 1.0   \n",
       "10                 1.0                 1.0                 1.0   \n",
       "\n",
       "    split9_train_score  mean_train_score  std_train_score  \n",
       "0                  1.0               1.0              0.0  \n",
       "2                  1.0               1.0              0.0  \n",
       "4                  1.0               1.0              0.0  \n",
       "6                  1.0               1.0              0.0  \n",
       "8                  1.0               1.0              0.0  \n",
       "10                 1.0               1.0              0.0  \n",
       "\n",
       "[6 rows x 32 columns]"
      ]
     },
     "execution_count": 60,
     "metadata": {},
     "output_type": "execute_result"
    }
   ],
   "source": [
    "results_data = pd.DataFrame(gs.cv_results_)\n",
    "param_keys = list(params.keys())\n",
    "optimal_results_data = results_data.loc[(results_data['param_'+param_keys[1]]==best_parameter[param_keys[1]])]\n",
    "optimal_results_data"
   ]
  },
  {
   "cell_type": "code",
   "execution_count": 64,
   "id": "c6d35100",
   "metadata": {},
   "outputs": [
    {
     "data": {
      "text/plain": [
       "Text(0.5, 1.0, 'Validation for the KNN')"
      ]
     },
     "execution_count": 64,
     "metadata": {},
     "output_type": "execute_result"
    },
    {
     "data": {
      "image/png": "[encoded data removed]",
      "text/plain": [
       "<Figure size 432x288 with 1 Axes>"
      ]
     },
     "metadata": {
      "needs_background": "light"
     },
     "output_type": "display_data"
    }
   ],
   "source": [
    "##GridSearch Plotting\n",
    "fig, ax = plt.subplots()\n",
    "optimal_results_data.plot(x='param_'+param_keys[0], y='mean_train_score', label='Training Accuracy Score', ax=ax, marker='.', ls=':')\n",
    "optimal_results_data.plot(x='param_'+param_keys[0], y='mean_test_score', label='Validation accuracy Score', ax=ax, marker='.', ls=':')\n",
    "\n",
    "ax.set_xlabel('n_neighbors')\n",
    "ax.set_ylabel('accuracy')\n",
    "ax.set_ylim(bottom=0.0, top=1.05)\n",
    "ax.set_title(\"Validation for the KNN\")"
   ]
  },
  {
   "cell_type": "code",
   "execution_count": 62,
   "id": "a81f6afa",
   "metadata": {},
   "outputs": [
    {
     "name": "stdout",
     "output_type": "stream",
     "text": [
      "[learning_curve] Training set sizes: [  21   65  108  152  196  239  283  327  370  414  458  501  545  588\n",
      "  632  676  719  763  807  850  894  938  981 1025 1068 1112 1156 1199\n",
      " 1243 1287 1330 1374 1418 1461 1505 1549 1592 1636 1679 1723 1767 1810\n",
      " 1854 1898 1941 1985 2029 2072 2116 2160]\n"
     ]
    },
    {
     "name": "stderr",
     "output_type": "stream",
     "text": [
      "[Parallel(n_jobs=-1)]: Using backend LokyBackend with 8 concurrent workers.\n",
      "[Parallel(n_jobs=-1)]: Done  42 out of 500 | elapsed:    0.3s remaining:    3.7s\n",
      "[Parallel(n_jobs=-1)]: Done  93 out of 500 | elapsed:    0.6s remaining:    2.8s\n",
      "[Parallel(n_jobs=-1)]: Done 144 out of 500 | elapsed:    0.9s remaining:    2.3s\n",
      "[Parallel(n_jobs=-1)]: Done 195 out of 500 | elapsed:    1.2s remaining:    1.9s\n",
      "[Parallel(n_jobs=-1)]: Done 246 out of 500 | elapsed:    1.5s remaining:    1.6s\n",
      "[Parallel(n_jobs=-1)]: Done 297 out of 500 | elapsed:    1.8s remaining:    1.3s\n",
      "[Parallel(n_jobs=-1)]: Done 348 out of 500 | elapsed:    2.1s remaining:    0.9s\n",
      "[Parallel(n_jobs=-1)]: Done 399 out of 500 | elapsed:    2.4s remaining:    0.6s\n",
      "[Parallel(n_jobs=-1)]: Done 450 out of 500 | elapsed:    2.7s remaining:    0.3s\n",
      "[Parallel(n_jobs=-1)]: Done 500 out of 500 | elapsed:    3.0s finished\n"
     ]
    },
    {
     "data": {
      "text/plain": [
       "<matplotlib.legend.Legend at 0x7ffa6331ee80>"
      ]
     },
     "execution_count": 62,
     "metadata": {},
     "output_type": "execute_result"
    },
    {
     "data": {
      "image/png": "[encoded data removed]",
      "text/plain": [
       "<Figure size 432x288 with 1 Axes>"
      ]
     },
     "metadata": {
      "needs_background": "light"
     },
     "output_type": "display_data"
    }
   ],
   "source": [
    "##learning Curve\n",
    "optimal_df = KNeighborsClassifier(weights=best_parameter[param_keys[1]], n_neighbors=best_parameter[param_keys[0]])\n",
    "train_sizes, train_scores, test_scores = learning_curve(optimal_df, X, y, cv=10, scoring='accuracy', n_jobs=-1, train_sizes=np.linspace(0.01,1.0,50), verbose=10)\n",
    "train_mean = np.mean(train_scores, axis=1)\n",
    "train_std = np.std(train_scores, axis=1)\n",
    "test_mean = np.mean(test_scores, axis=1)\n",
    "test_std = np.std(test_scores, axis=1)\n",
    "\n",
    "plt.plot(train_sizes, train_mean, label='Training curve')\n",
    "plt.plot(train_sizes, test_mean, label='Test Curve')\n",
    "plt.xlabel(\"Dataset Size\")\n",
    "plt.ylabel(\"accuracy\")\n",
    "plt.title(\"Learning Curve for the KNN\")\n",
    "plt.legend(bbox_to_anchor=(1.05, 1), loc='upper left', borderaxespad=0.)"
   ]
  },
  {
   "cell_type": "code",
   "execution_count": 63,
   "id": "daaeee76",
   "metadata": {},
   "outputs": [
    {
     "name": "stdout",
     "output_type": "stream",
     "text": [
      "Time spent for prediction:  0.020325899124145508\n",
      "              precision    recall  f1-score   support\n",
      "\n",
      "           0     0.8558    0.7672    0.8091       116\n",
      "           1     0.8015    0.8790    0.8385       124\n",
      "\n",
      "    accuracy                         0.8250       240\n",
      "   macro avg     0.8286    0.8231    0.8238       240\n",
      "weighted avg     0.8277    0.8250    0.8243       240\n",
      "\n",
      "f1-Score:  0.8384615384615385\n"
     ]
    }
   ],
   "source": [
    "##Predictions\n",
    "pred = prediction(optimal_df, X_train, y_train, X_test, y_test)\n",
    "printPredictions(pred)"
   ]
  }
 ],
 "metadata": {
  "kernelspec": {
   "display_name": "Python 3",
   "language": "python",
   "name": "python3"
  },
  "language_info": {
   "codemirror_mode": {
    "name": "ipython",
    "version": 3
   },
   "file_extension": ".py",
   "mimetype": "text/x-python",
   "name": "python",
   "nbconvert_exporter": "python",
   "pygments_lexer": "ipython3",
   "version": "3.8.8"
  }
 },
 "nbformat": 4,
 "nbformat_minor": 5
}
